{
 "cells": [
  {
   "cell_type": "code",
   "execution_count": 2,
   "metadata": {},
   "outputs": [
    {
     "name": "stdout",
     "output_type": "stream",
     "text": [
      "Minha idade é maior que 25? Eu acredito que sim\n",
      "True\n"
     ]
    }
   ],
   "source": [
    "\"\"\"Exercício 5-1 - Testes condicionais: Escreva uma serie de testes condicionais. Print a declaração que descreva sua predição\n",
    "pelo resultado de cada teste.\"\"\"\n",
    "idade = 27\n",
    "print('Minha idade é maior que 25? Eu acredito que sim.')\n",
    "print(idade > 25)"
   ]
  },
  {
   "cell_type": "code",
   "execution_count": 3,
   "metadata": {},
   "outputs": [
    {
     "name": "stdout",
     "output_type": "stream",
     "text": [
      "A cidade que eu me mudei foi São Carlos? Eu acho que não\n",
      "False\n"
     ]
    }
   ],
   "source": [
    "mud = 'araraquara'\n",
    "print('A cidade que eu me mudei foi São Carlos? Eu acho que não.')\n",
    "print(mud == 'são carlos')"
   ]
  },
  {
   "cell_type": "code",
   "execution_count": 5,
   "metadata": {},
   "outputs": [
    {
     "name": "stdout",
     "output_type": "stream",
     "text": [
      "Minhã irma se chama Beatriz? Eu acho que sim.\n",
      "True\n"
     ]
    }
   ],
   "source": [
    "irma = 'beatriz'\n",
    "print('Minhã irma se chama Beatriz? Eu acho que sim.')\n",
    "print(irma == 'beatriz')"
   ]
  },
  {
   "cell_type": "code",
   "execution_count": 6,
   "metadata": {},
   "outputs": [
    {
     "name": "stdout",
     "output_type": "stream",
     "text": [
      "Eu tenho três irmãos? Eu aposto que não\n",
      "False\n"
     ]
    }
   ],
   "source": [
    "irmaos = 1\n",
    "print('Eu tenho três irmãos? Eu aposto que não.')\n",
    "print(irmaos == 3)"
   ]
  },
  {
   "cell_type": "code",
   "execution_count": 9,
   "metadata": {},
   "outputs": [
    {
     "name": "stdout",
     "output_type": "stream",
     "text": [
      "Eu tenho mais que um gato e menos que 3 gatos? Eu acho que sim.\n",
      "True\n"
     ]
    }
   ],
   "source": [
    "gatos = 2\n",
    "print('Eu tenho mais que um gato e menos que 3 gatos? Eu acho que sim.')\n",
    "print(gatos > 1 and gatos < 3)"
   ]
  },
  {
   "cell_type": "code",
   "execution_count": 11,
   "metadata": {},
   "outputs": [
    {
     "name": "stdout",
     "output_type": "stream",
     "text": [
      "Será que frango com catupiry é uma das minhas pizzas favoritas? Acho que não\n"
     ]
    },
    {
     "data": {
      "text/plain": [
       "False"
      ]
     },
     "execution_count": 11,
     "metadata": {},
     "output_type": "execute_result"
    }
   ],
   "source": [
    "pizzas = ['4 queijos', 'portuguesa', 'calabresa']\n",
    "print('Será que frango com catupiry é uma das minhas pizzas favoritas? Acho que não.')\n",
    "'frango com catupiry' in pizzas"
   ]
  },
  {
   "cell_type": "code",
   "execution_count": 13,
   "metadata": {},
   "outputs": [
    {
     "name": "stdout",
     "output_type": "stream",
     "text": [
      "Será que 4 queijos é uma das minhas pizzas favoritas? Acho que não.\n"
     ]
    },
    {
     "data": {
      "text/plain": [
       "True"
      ]
     },
     "execution_count": 13,
     "metadata": {},
     "output_type": "execute_result"
    }
   ],
   "source": [
    "pizzas = ['4 queijos', 'portuguesa', 'calabresa']\n",
    "print('Será que 4 queijos é uma das minhas pizzas favoritas? Acho que não.')\n",
    "'4 queijos' in pizzas"
   ]
  },
  {
   "cell_type": "code",
   "execution_count": 12,
   "metadata": {},
   "outputs": [
    {
     "name": "stdout",
     "output_type": "stream",
     "text": [
      "Minha primeira graduação foi em química? Eu acho que sim.\n",
      "True\n"
     ]
    }
   ],
   "source": [
    "curso_1 = 'química'\n",
    "print('Minha primeira graduação foi em química? Eu acho que sim.')\n",
    "print(curso_1 == 'química')"
   ]
  },
  {
   "cell_type": "code",
   "execution_count": 14,
   "metadata": {},
   "outputs": [
    {
     "name": "stdout",
     "output_type": "stream",
     "text": [
      "Minha segunda graduação será em artes? Acredito que não.\n"
     ]
    },
    {
     "data": {
      "text/plain": [
       "False"
      ]
     },
     "execution_count": 14,
     "metadata": {},
     "output_type": "execute_result"
    }
   ],
   "source": [
    "curso_2 = ['ciência da computação', 'sistemas da informação', 'ciência de dados']\n",
    "print('Minha segunda graduação será em artes? Acredito que não.')\n",
    "curso_2 == 'artes'"
   ]
  },
  {
   "cell_type": "code",
   "execution_count": 17,
   "metadata": {},
   "outputs": [
    {
     "name": "stdout",
     "output_type": "stream",
     "text": [
      "Minha irmã tem mais de 18 anos ou minha mãe tem menos de 43 anos? Eu acho que não\n",
      "False\n"
     ]
    }
   ],
   "source": [
    "idade_1 = 18\n",
    "idade_2 = 44\n",
    "print('Minha irmã tem mais de 18 anos ou minha mãe tem menos de 43 anos? Eu acho que não')\n",
    "print(idade_1 > 18 or idade_2 < 43)"
   ]
  }
 ],
 "metadata": {
  "kernelspec": {
   "display_name": "Python 3",
   "language": "python",
   "name": "python3"
  },
  "language_info": {
   "codemirror_mode": {
    "name": "ipython",
    "version": 3
   },
   "file_extension": ".py",
   "mimetype": "text/x-python",
   "name": "python",
   "nbconvert_exporter": "python",
   "pygments_lexer": "ipython3",
   "version": "3.13.1"
  }
 },
 "nbformat": 4,
 "nbformat_minor": 2
}
