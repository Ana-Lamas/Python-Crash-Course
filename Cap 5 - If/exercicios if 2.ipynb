{
 "cells": [
  {
   "cell_type": "code",
   "execution_count": 1,
   "metadata": {},
   "outputs": [],
   "source": [
    "\"\"\"Exercício 5-3 - Cores Aliens #1: Imagine um alien que apenas apareceu em um jogo. Cria uma variavel chamada alien_color e atribua os valores\n",
    "'verde', 'amarelo' ou 'vermelho' \"\"\"\n",
    "alien_color = 'amarelo'\n",
    "# escreva uma mensagem que teste que a cor do alien é verde. Se for, printe uma mensagem que o jogador acaba de ganahr 5 pontos\n",
    "if alien_color == 'verde':\n",
    "    print('Você acertou o alien verde! Você acaba de ganhar 5 pontos.')"
   ]
  },
  {
   "cell_type": "code",
   "execution_count": 3,
   "metadata": {},
   "outputs": [
    {
     "name": "stdout",
     "output_type": "stream",
     "text": [
      "Você acertou, o alien é verde! Você acaba de ganhar 5 pontos.\n"
     ]
    }
   ],
   "source": [
    "alien_color = 'verde'\n",
    "# escreva uma mensagem que teste que a cor do alien é verde. Se for, printe uma mensagem que o jogador acaba de ganahr 5 pontos\n",
    "if alien_color == 'verde':\n",
    "    print('Você acertou, o alien é verde! Você acaba de ganhar 5 pontos.')"
   ]
  },
  {
   "cell_type": "code",
   "execution_count": 1,
   "metadata": {},
   "outputs": [
    {
     "name": "stdout",
     "output_type": "stream",
     "text": [
      "O alien que você acertou não é verde. Ganhe 10 pontos pelo acerto.\n"
     ]
    }
   ],
   "source": [
    "\"\"\"Exercício 5-4 - Cores Aliens #2: Escolha uma cor para o alien como feito no exercicio 5-3, e escreva uma if-else chain\"\"\"\n",
    "alien_color = 'vermelho'\n",
    "# Se a cor do alien for verde, printe uma declaração que o player acaba de ganhar 5 pontos por atirar no alien\n",
    "if alien_color == 'verde':\n",
    "    print('Você acertou o alien verde! Ganhe 5 pontos pelo acerto.')\n",
    "else:\n",
    "    print('O alien que você acertou não é verde. Ganhe 10 pontos pelo acerto.')"
   ]
  },
  {
   "cell_type": "code",
   "execution_count": 2,
   "metadata": {},
   "outputs": [
    {
     "name": "stdout",
     "output_type": "stream",
     "text": [
      "Você acertou o alien verde! Ganhe 5 pontos por ter acertado ele.\n"
     ]
    }
   ],
   "source": [
    "alien_color = 'verde'\n",
    "if alien_color == 'verde':\n",
    "    print('Você acertou o alien verde! Ganhe 5 pontos por ter acertado ele.')\n",
    "else:\n",
    "    print('O alien que você acertou não é verde. Ganhe 10 pontos pelo acerto.')"
   ]
  },
  {
   "cell_type": "code",
   "execution_count": 3,
   "metadata": {},
   "outputs": [
    {
     "name": "stdout",
     "output_type": "stream",
     "text": [
      "Você acertou o alien verde! Ganhe 5 pontos pelo acerto.\n"
     ]
    }
   ],
   "source": [
    "\"\"\"Exercicio 5-5 - Cores Aliens #3: Faça a cadeia if-else do exercício 5-4 em uma cadeia if-elif-else\"\"\"\n",
    "# se o alien for verde, print a mensagem que o player ganhou 5 pontos\n",
    "# se o alien for amarelo, print uma mensagem que o player ganhou 10 pontos\n",
    "# se o alien é vermelho, print a mensagem que o player ganhou 15 pontos\n",
    "if alien_color == 'verde':\n",
    "    print('Você acertou o alien verde! Ganhe 5 pontos pelo acerto.')\n",
    "elif alien_color == 'amarelo':\n",
    "    print('Você acertou o alien amarelo. Ganhe 10 pontos pelo acerto.')\n",
    "else:\n",
    "    print('Você acertou o alien vermelho. Ganhe 15 pontos pelo acerto.')\n",
    "alien_color = 'verde'"
   ]
  },
  {
   "cell_type": "code",
   "execution_count": 7,
   "metadata": {},
   "outputs": [
    {
     "name": "stdout",
     "output_type": "stream",
     "text": [
      "Você acertou o alien amarelo. Ganhe 10 pontos pelo acerto.\n"
     ]
    }
   ],
   "source": [
    "if alien_color == 'verde':\n",
    "    print('Você acertou o alien verde! Ganhe 5 pontos pelo acerto.')\n",
    "elif alien_color == 'amarelo':\n",
    "    print('Você acertou o alien amarelo. Ganhe 10 pontos pelo acerto.')\n",
    "else:\n",
    "    print('Você acertou o alien vermelho. Ganhe 15 pontos pelo acerto.')\n",
    "alien_color = 'amarelo'"
   ]
  },
  {
   "cell_type": "code",
   "execution_count": 9,
   "metadata": {},
   "outputs": [
    {
     "name": "stdout",
     "output_type": "stream",
     "text": [
      "Você acertou o alien vermelho. Ganhe 15 pontos pelo acerto.\n"
     ]
    }
   ],
   "source": [
    "if alien_color == 'verde':\n",
    "    print('Você acertou o alien verde! Ganhe 5 pontos pelo acerto.')\n",
    "elif alien_color == 'amarelo':\n",
    "    print('Você acertou o alien amarelo. Ganhe 10 pontos pelo acerto.')\n",
    "else:\n",
    "    print('Você acertou o alien vermelho. Ganhe 15 pontos pelo acerto.')\n",
    "alien_color = 'vermelho'"
   ]
  },
  {
   "cell_type": "code",
   "execution_count": 29,
   "metadata": {},
   "outputs": [
    {
     "name": "stdout",
     "output_type": "stream",
     "text": [
      "Essa pessoa é um adulto!\n"
     ]
    }
   ],
   "source": [
    "\"\"\"Exercício 5-6 - Estágios da Vida: Escreve uma cadeia if-elif-else que determina o estágio de vida da pessoa. Atribua uma variavel para idade\"\"\"\n",
    "# se a pessoa tem menos de 2 anos, printe uma mensagem que diga que a pessoa é um bebê\n",
    "# se a pessoa tem ao menos 2 anos mais menos que 4, printe uma mensagem que diga que a pessoa é uma criança pequena\n",
    "# se a pessoa tiver ao menos 4 anos mas menos que 13, printe uma mensagem que diga que a pessoa é uma criança\n",
    "# se a pessoa tem ao menos 13 anos mas menos que 20, printe uma mensagem que diga que a pessoa é adolescente\n",
    "# se a pessoa tem ao menos 20 anos mas menos que 65, printe uma mensagem que diga que a pessoa é um adulto\n",
    "# se a pessoa tem 65 anos ou mais, printe uma mensagem que diga que a pessoa é um ancião\n",
    "idade = 27\n",
    "if idade < 2:\n",
    "    print('Essa pessoa é um bebê!')\n",
    "elif idade < 4:\n",
    "    print('Essa pessoa é uma criança pequena!')\n",
    "elif idade < 13:\n",
    "    print('Essa pessoa é uma criança!')\n",
    "elif idade < 20:\n",
    "    print('Essa pessoa é um adolescente!')\n",
    "elif idade < 65:\n",
    "    print('Essa pessoa é um adulto!')\n",
    "elif idade >= 65:\n",
    "    print('Essa pessoa é um ancião!')"
   ]
  },
  {
   "cell_type": "code",
   "execution_count": 31,
   "metadata": {},
   "outputs": [
    {
     "name": "stdout",
     "output_type": "stream",
     "text": [
      "Você realmente gosta de goiaba!\n",
      "Você realmente gosta de banana!\n",
      "\n",
      "Essas são as minhas frutas favoritas!\n"
     ]
    }
   ],
   "source": [
    "\"\"\"Exercício 5-7 - Fruta Favorita: Faça uma lista de suas frutas favorita, e então, escreva uma série de ifs independentes que chequem por determinadas\n",
    "frutas na sua lista\"\"\"\n",
    "frutas_favoritas = ['goiaba', 'banana', 'acerola']\n",
    "if 'manga' in frutas_favoritas:\n",
    "    print('Você realmente gosta de manga!')\n",
    "if 'goiaba' in frutas_favoritas:\n",
    "    print('Você realmente gosta de goiaba!')\n",
    "if 'banana' in frutas_favoritas:\n",
    "    print('Você realmente gosta de banana!')\n",
    "if 'maça' in frutas_favoritas:\n",
    "    print('Você realmente gosta de maça!')\n",
    "if 'amora' in frutas_favoritas:\n",
    "    print('Você realmente gosta de amora!')\n",
    "print('\\nEssas são as minhas frutas favoritas!')"
   ]
  }
 ],
 "metadata": {
  "kernelspec": {
   "display_name": "Python 3",
   "language": "python",
   "name": "python3"
  },
  "language_info": {
   "codemirror_mode": {
    "name": "ipython",
    "version": 3
   },
   "file_extension": ".py",
   "mimetype": "text/x-python",
   "name": "python",
   "nbconvert_exporter": "python",
   "pygments_lexer": "ipython3",
   "version": "3.13.1"
  }
 },
 "nbformat": 4,
 "nbformat_minor": 2
}
