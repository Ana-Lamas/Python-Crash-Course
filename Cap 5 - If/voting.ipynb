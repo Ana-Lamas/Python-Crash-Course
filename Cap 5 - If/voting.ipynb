{
 "cells": [
  {
   "cell_type": "code",
   "execution_count": 6,
   "metadata": {},
   "outputs": [
    {
     "name": "stdout",
     "output_type": "stream",
     "text": [
      "Você é velho o bastante para votar!\n",
      "Você já se registrou para votar?\n"
     ]
    }
   ],
   "source": [
    "age = 18\n",
    "if age >= 18:\n",
    "    print('Você é velho o bastante para votar!')\n",
    "    print('Você já se registrou para votar?')"
   ]
  },
  {
   "cell_type": "code",
   "execution_count": 7,
   "metadata": {},
   "outputs": [
    {
     "name": "stdout",
     "output_type": "stream",
     "text": [
      "Desculpa, você é muito novo para votar.\n",
      "Por favor, se registre o quanto antes após fazer 18 anos!\n"
     ]
    }
   ],
   "source": [
    "age = 17\n",
    "if age >= 18:\n",
    "    print('Você é velho o bastante para votar!')\n",
    "    print('Você já se registrou para votar?')\n",
    "else:\n",
    "    print('Desculpa, você é muito novo para votar.')\n",
    "    print('Por favor, se registre o quanto antes após fazer 18 anos!')"
   ]
  }
 ],
 "metadata": {
  "kernelspec": {
   "display_name": "Python 3",
   "language": "python",
   "name": "python3"
  },
  "language_info": {
   "codemirror_mode": {
    "name": "ipython",
    "version": 3
   },
   "file_extension": ".py",
   "mimetype": "text/x-python",
   "name": "python",
   "nbconvert_exporter": "python",
   "pygments_lexer": "ipython3",
   "version": "3.13.1"
  }
 },
 "nbformat": 4,
 "nbformat_minor": 2
}
