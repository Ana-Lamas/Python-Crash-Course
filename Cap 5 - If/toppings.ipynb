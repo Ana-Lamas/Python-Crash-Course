{
 "cells": [
  {
   "cell_type": "code",
   "execution_count": 3,
   "metadata": {},
   "outputs": [
    {
     "name": "stdout",
     "output_type": "stream",
     "text": [
      "Segure as anchovas!\n"
     ]
    }
   ],
   "source": [
    "requested_topping = 'mushrooms'\n",
    "if requested_topping != 'anchovies':\n",
    "    print('Segure as anchovas!')"
   ]
  },
  {
   "cell_type": "code",
   "execution_count": 4,
   "metadata": {},
   "outputs": [
    {
     "name": "stdout",
     "output_type": "stream",
     "text": [
      "Adicionando cogumelo.\n",
      "Adicionando queijo extra.\n",
      "\n",
      "Terminando de fazer sua pizza!\n"
     ]
    }
   ],
   "source": [
    "requested_toppings = ['mushrooms', 'extra cheese']\n",
    "if 'mushrooms' in requested_toppings:\n",
    "    print('Adicionando cogumelo.')\n",
    "if 'pepperoni' in requested_toppings:\n",
    "    print('Adicionando pepperoni')\n",
    "if 'extra cheese' in requested_toppings:\n",
    "    print('Adicionando queijo extra.')\n",
    "\n",
    "print('\\nTerminando de fazer sua pizza!')"
   ]
  },
  {
   "cell_type": "code",
   "execution_count": 5,
   "metadata": {},
   "outputs": [
    {
     "name": "stdout",
     "output_type": "stream",
     "text": [
      "Adicionando cogumelo.\n",
      "\n",
      "Terminando de fazer sua pizza!\n"
     ]
    }
   ],
   "source": [
    "requested_toppings = ['mushrooms', 'extra cheese']\n",
    "if 'mushrooms' in requested_toppings:\n",
    "    print('Adicionando cogumelo.')\n",
    "elif 'pepperoni' in requested_toppings:\n",
    "    print('Adicionando pepperoni')\n",
    "elif 'extra cheesed' in requested_toppings:\n",
    "    print('Adicionando queijo extra.')\n",
    "\n",
    "print('\\nTerminando de fazer sua pizza!')"
   ]
  },
  {
   "cell_type": "code",
   "execution_count": 1,
   "metadata": {},
   "outputs": [
    {
     "name": "stdout",
     "output_type": "stream",
     "text": [
      "Adicionando mushrooms.\n",
      "Adicionando green peppers.\n",
      "Adicionando extra cheese.\n",
      "\n",
      "Finalizando sua pizza!\n"
     ]
    }
   ],
   "source": [
    "requested_toppings = ['mushrooms', 'green peppers', 'extra cheese']\n",
    "for requested_topping in requested_toppings:\n",
    "    print(f'Adicionando {requested_topping}.')\n",
    "\n",
    "print('\\nFinalizando sua pizza!')"
   ]
  },
  {
   "cell_type": "code",
   "execution_count": 2,
   "metadata": {},
   "outputs": [
    {
     "name": "stdout",
     "output_type": "stream",
     "text": [
      "Adicionando mushrooms.\n",
      "Desculpe, nós estamos sem pimentas verdes agora.\n",
      "Adicionando extra cheese.\n",
      "\n",
      "Terminando de fazer sua pizza!\n"
     ]
    }
   ],
   "source": [
    "requested_toppings = ['mushrooms', 'green peppers', 'extra cheese']\n",
    "for requested_topping in requested_toppings:\n",
    "    if requested_topping == 'green peppers':\n",
    "        print('Desculpe, nós estamos sem pimentas verdes agora.')\n",
    "    else:\n",
    "        print(f'Adicionando {requested_topping}.')\n",
    "\n",
    "print('\\nTerminando de fazer sua pizza!')"
   ]
  },
  {
   "cell_type": "code",
   "execution_count": 3,
   "metadata": {},
   "outputs": [
    {
     "name": "stdout",
     "output_type": "stream",
     "text": [
      "Você tem certeza que quer uma pizza simples?\n"
     ]
    }
   ],
   "source": [
    "requested_toppings = []\n",
    "if requested_toppings:\n",
    "    for requested_topping in requested_toppings:\n",
    "        print(f'Adicionando {requested_topping}.')\n",
    "    print('\\nTerminando de fazer sua pizza!')\n",
    "else: \n",
    "    print('Você tem certeza que quer uma pizza simples?')"
   ]
  },
  {
   "cell_type": "code",
   "execution_count": 5,
   "metadata": {},
   "outputs": [
    {
     "name": "stdout",
     "output_type": "stream",
     "text": [
      "Adicionando mushrooms.\n",
      "Desculpa, nós não temos french fries disponível.\n",
      "Adicionando extra cheese.\n",
      "\n",
      "Terminando de fazer sua pizza!\n"
     ]
    }
   ],
   "source": [
    "available_toppings = ['mushrooms', 'olives', 'green peppers',\n",
    "                      'pepperoni', 'pineapple', 'extra cheese']\n",
    "requested_toppings = ['mushrooms', 'french fries', 'extra cheese']\n",
    "\n",
    "for requested_topping in requested_toppings:\n",
    "    if requested_topping in available_toppings:\n",
    "        print(f'Adicionando {requested_topping}.')\n",
    "    else:\n",
    "        print(f'Desculpa, nós não temos {requested_topping} disponível.')\n",
    "\n",
    "print('\\nTerminando de fazer sua pizza!')"
   ]
  }
 ],
 "metadata": {
  "kernelspec": {
   "display_name": "Python 3",
   "language": "python",
   "name": "python3"
  },
  "language_info": {
   "codemirror_mode": {
    "name": "ipython",
    "version": 3
   },
   "file_extension": ".py",
   "mimetype": "text/x-python",
   "name": "python",
   "nbconvert_exporter": "python",
   "pygments_lexer": "ipython3",
   "version": "3.13.1"
  }
 },
 "nbformat": 4,
 "nbformat_minor": 2
}
