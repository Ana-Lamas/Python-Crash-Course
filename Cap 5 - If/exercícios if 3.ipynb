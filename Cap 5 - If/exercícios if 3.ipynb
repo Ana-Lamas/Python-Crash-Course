{
 "cells": [
  {
   "cell_type": "code",
   "execution_count": 1,
   "metadata": {},
   "outputs": [
    {
     "name": "stdout",
     "output_type": "stream",
     "text": [
      "Olá novamente admin, você deseja verificar o relatório de status?\n",
      "Olá a1paca, obrigado por logar novamente em nossos serviços!\n",
      "Olá masanari, obrigado por logar novamente em nossos serviços!\n",
      "Olá laurito, obrigado por logar novamente em nossos serviços!\n",
      "Olá juão_da_paçoca, obrigado por logar novamente em nossos serviços!\n"
     ]
    }
   ],
   "source": [
    "\"\"\"Exercício 5-8 - Olá Administrador: Faça uma lista com 5 ou mais usernames, incluindo o nome 'admin'. Imagine você escrevendo\n",
    "um código que irá printar uma mensagem recepcionando cada usuário após eles logarem no website. Loop atráves da lista,\n",
    "e print uma mensagem recepcionando cada usuario.\"\"\"\n",
    "usernames = ['admin', 'a1paca', 'masanari', 'laurito', 'juão_da_paçoca']\n",
    "#Se o username for 'admin', print uma mensagem especial, como Ola admin, você deseja observar o relatório de status?\n",
    "#Nas demais ocasiões, print uma saudação genérica, como Olá Jaden, obrigado por logar novamente\n",
    "for user in usernames:\n",
    "    if user == 'admin':\n",
    "        print(f'Olá novamente {user}, você deseja verificar o relatório de status?')\n",
    "    else:\n",
    "        print(f'Olá {user}, obrigado por logar novamente em nossos serviços!')"
   ]
  },
  {
   "cell_type": "code",
   "execution_count": 5,
   "metadata": {},
   "outputs": [
    {
     "name": "stdout",
     "output_type": "stream",
     "text": [
      "Precisamos adicionar usuários a plataforma.\n"
     ]
    }
   ],
   "source": [
    "\"\"\"Exercício 5-9 - Sem usuários: Adicione um if a lista de teste hello_admin.py que faça a checagem que a lista nao esteja vazia\"\"\"\n",
    "usernames = []\n",
    "if usernames:\n",
    "    for user in usernames:\n",
    "        print(f'Seja bem vindo, {user}!')\n",
    "    print('Que tenha um bom uso dos nossos serviços.')\n",
    "else:\n",
    "    print('Precisamos adicionar usuários a plataforma.')"
   ]
  },
  {
   "cell_type": "code",
   "execution_count": 10,
   "metadata": {},
   "outputs": [
    {
     "name": "stdout",
     "output_type": "stream",
     "text": [
      "Desculpe, mas o usuário a1paca já está sendo utilizado. Por favor, escolha outro nome.\n",
      "Seja bem vindo masanari! Espero que goste do nosso site.\n",
      "Seja bem vindo laurito! Espero que goste do nosso site.\n",
      "Desculpe, mas o usuário ghost já está sendo utilizado. Por favor, escolha outro nome.\n",
      "Seja bem vindo juão_da_paçoca! Espero que goste do nosso site.\n"
     ]
    }
   ],
   "source": [
    "\"\"\"Exercício 5-10 - Checando Usernames: Faça o seguinte para criar um programa que simule como um website garante que todos tenham um\n",
    "username unico\"\"\"\n",
    "#Faça uma lista com cinco ou mais usernames chamada current_users\n",
    "current_users = ['a1paca', 'ghost', 'eliex', 'ifzin', 'lavi_ondas']\n",
    "#faça outra lista com cinco novos usernames chamada new_users. Faça com que um ou dois dos novos usernames também \n",
    "#estejam na current_users list\n",
    "new_users = ['a1paca', 'masanari', 'laurito', 'ghost', 'juão_da_paçoca']\n",
    "#Lopp atráves da lista new_users para ver se encontra um novo username que já esteja sendo usado.\n",
    "# se tiver, print uma mensagem que a pessoa precisara criar um novo username. Se o username\n",
    "# nao estiver sendo utilizado, print uma mensagem que diga que o username é disponível\n",
    "for user in new_users:\n",
    "    if user in current_users:\n",
    "        print(f'Desculpe, mas o usuário {user} já está sendo utilizado. Por favor, escolha outro nome.')\n",
    "    else:\n",
    "        print(f'Seja bem vindo {user}! Espero que goste do nosso site.')"
   ]
  },
  {
   "cell_type": "code",
   "execution_count": 15,
   "metadata": {},
   "outputs": [
    {
     "name": "stdout",
     "output_type": "stream",
     "text": [
      "1st\n",
      "2nd\n",
      "3rd\n",
      "4th\n",
      "5th\n",
      "6th\n",
      "7th\n",
      "8th\n",
      "9th\n",
      "\n",
      "Essa é a sequência dos primeiros 9 números ordinais.\n"
     ]
    }
   ],
   "source": [
    "\"\"\"Exercício 5-11 - Números Ordinais: Números ordinais indicam sua posição em uma lista, como 1st\n",
    "ou 2st. Boa parte dos números ordinais terminam com th, exceto 1, 2 e 3\"\"\"\n",
    "#Guarde os números 1 até 9 em uma lista\n",
    "ordinal_numbers = [1, 2, 3, 4, 5, 6, 7, 8, 9]\n",
    "#Loop atráves da lista\n",
    "#Use uma cadeia if-elif-else dentro do loop para printar de forma correta o final \n",
    "#de cada número ordinal. Seu output deverá ser lido como '1st, 2nd, 3rd, 4th etc...\n",
    "#e faça cada resultado aparecer em uma linha separada\n",
    "for ordinal in ordinal_numbers:\n",
    "    if ordinal == 1:\n",
    "        print(f'{ordinal}st')\n",
    "    elif ordinal == 2:\n",
    "        print(f'{ordinal}nd')\n",
    "    elif ordinal == 3:\n",
    "        print(f'{ordinal}rd')\n",
    "    else: \n",
    "        print(f'{ordinal}th')\n",
    "print('\\nEssa é a sequência dos primeiros 9 números ordinais.')"
   ]
  }
 ],
 "metadata": {
  "kernelspec": {
   "display_name": "Python 3",
   "language": "python",
   "name": "python3"
  },
  "language_info": {
   "codemirror_mode": {
    "name": "ipython",
    "version": 3
   },
   "file_extension": ".py",
   "mimetype": "text/x-python",
   "name": "python",
   "nbconvert_exporter": "python",
   "pygments_lexer": "ipython3",
   "version": "3.13.1"
  }
 },
 "nbformat": 4,
 "nbformat_minor": 2
}
