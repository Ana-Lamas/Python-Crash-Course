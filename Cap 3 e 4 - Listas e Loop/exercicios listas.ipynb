{
 "cells": [
  {
   "cell_type": "code",
   "execution_count": 38,
   "metadata": {},
   "outputs": [
    {
     "name": "stdout",
     "output_type": "stream",
     "text": [
      "['Beatriz', 'Rúbia', 'Jacilda']\n",
      "Olá Beatriz, você está convidado para um jantar especial na minha casa! Te espero dia 25/01 as 19 horas.\n",
      "Olá Rúbia, você está convidado para um jantar especial na minha casa! Te espero dia 25/01 as 19 horas.\n",
      "Olá Jacilda, você está convidado para um jantar especial na minha casa! Te espero dia 25/01 as 19 horas.\n"
     ]
    }
   ],
   "source": [
    "#Exercício 3-4 - Lista de convidados: Se você pudesse convidar qualquer um, vivo ou morto, para jantar, quem seria convidado?\n",
    "#Faça uma lista de ao menos três pessoas que você gostaria de convidar para um jantar. \n",
    "#Então, utilize sua lista para enviar uma mesnagem para cada pessoa, convidando-a para o jantar\n",
    "dinner_list = ['Beatriz', 'Rúbia', 'Jacilda']\n",
    "print(dinner_list)\n",
    "print(f'Olá {dinner_list[0]}, você está convidado para um jantar especial na minha casa! Te espero dia 25/01 as 19 horas.')\n",
    "print(f'Olá {dinner_list[1]}, você está convidado para um jantar especial na minha casa! Te espero dia 25/01 as 19 horas.')\n",
    "print(f'Olá {dinner_list[2]}, você está convidado para um jantar especial na minha casa! Te espero dia 25/01 as 19 horas.')"
   ]
  },
  {
   "cell_type": "code",
   "execution_count": 40,
   "metadata": {},
   "outputs": [
    {
     "name": "stdout",
     "output_type": "stream",
     "text": [
      "Os convidados Rúbia e Jacilda não poderão comparecer ao jantar.\n",
      "['Beatriz', 'Pablo', 'Murilo']\n",
      "Olá Beatriz, você está convidado para um jantar especial na minha casa! Te espero dia 25/01 as 19 horas.\n",
      "Olá Pablo, você está convidado para um jantar especial na minha casa! Te espero dia 25/01 as 19 horas.\n",
      "Olá Murilo, você está convidado para um jantar especial na minha casa! Te espero dia 25/01 as 19 horas.\n"
     ]
    }
   ],
   "source": [
    "#Exercício 3-5 - Mudando a lista de convidados: Você descobre que um dos seus convidados não pode ir ao seu jantar, então você precisa fazer novos convites\n",
    "#Pense em outras pessoas para chamar;\n",
    "print(f'Os convidados {dinner_list[1]} e {dinner_list[2]} não poderão comparecer ao jantar.')\n",
    "dinner_list[1] = 'Pablo'\n",
    "dinner_list[2] = 'Murilo'\n",
    "print(dinner_list)\n",
    "print(f'Olá {dinner_list[0]}, você está convidado para um jantar especial na minha casa! Te espero dia 25/01 as 19 horas.')\n",
    "print(f'Olá {dinner_list[1]}, você está convidado para um jantar especial na minha casa! Te espero dia 25/01 as 19 horas.')\n",
    "print(f'Olá {dinner_list[2]}, você está convidado para um jantar especial na minha casa! Te espero dia 25/01 as 19 horas.')\n"
   ]
  },
  {
   "cell_type": "code",
   "execution_count": 41,
   "metadata": {},
   "outputs": [
    {
     "name": "stdout",
     "output_type": "stream",
     "text": [
      "A todos os convidados! Encontrei uma mesa maior, logo teremos mais pessoas a mesa e o local irá mudar!\n",
      "['Ramon', 'Beatriz', 'Heryson', 'Pablo', 'Murilo', 'Hendny']\n",
      "Olá Ramon, você está convidado para um jantar especial na minha casa! Te espero dia 25/01 as 19 horas.\n",
      "Olá Beatriz, você está convidado para um jantar especial na minha casa! Te espero dia 25/01 as 19 horas.\n",
      "Olá Heryson, você está convidado para um jantar especial na minha casa! Te espero dia 25/01 as 19 horas.\n",
      "Olá Pablo, você está convidado para um jantar especial na minha casa! Te espero dia 25/01 as 19 horas.\n",
      "Olá Murilo, você está convidado para um jantar especial na minha casa! Te espero dia 25/01 as 19 horas.\n"
     ]
    }
   ],
   "source": [
    "#Exercicio 3-6 - Mais convidados : Você acaba de encontrar uma mesa de jantar maior, logo mais espaço está disponível.\n",
    "# Pense em mais três convidados para convidar ao jantar\n",
    "print(f'A todos os convidados! Encontrei uma mesa maior, logo teremos mais pessoas a mesa e o local irá mudar!')\n",
    "dinner_list.insert(0, 'Ramon')\n",
    "dinner_list.insert(2, 'Heryson')\n",
    "dinner_list.append('Hendny')\n",
    "print(dinner_list)\n",
    "print(f'Olá {dinner_list[0]}, você está convidado para um jantar especial na minha casa! Te espero dia 25/01 as 19 horas.')\n",
    "print(f'Olá {dinner_list[1]}, você está convidado para um jantar especial na minha casa! Te espero dia 25/01 as 19 horas.')\n",
    "print(f'Olá {dinner_list[2]}, você está convidado para um jantar especial na minha casa! Te espero dia 25/01 as 19 horas.')\n",
    "print(f'Olá {dinner_list[3]}, você está convidado para um jantar especial na minha casa! Te espero dia 25/01 as 19 horas.')\n",
    "print(f'Olá {dinner_list[4]}, você está convidado para um jantar especial na minha casa! Te espero dia 25/01 as 19 horas.')"
   ]
  },
  {
   "cell_type": "code",
   "execution_count": 43,
   "metadata": {},
   "outputs": [
    {
     "name": "stdout",
     "output_type": "stream",
     "text": [
      "['Ramon', 'Beatriz', 'Heryson', 'Pablo', 'Murilo', 'Hendny']\n",
      "Infelizmente a mesa não chegará a tempo para o nosso jantar, então terei que desmarca-lo. Espero que entenda Ramon.\n",
      "Infelizmente a mesa não chegará a tempo para o nosso jantar, então terei que desmarca-lo. Espero que entenda Beatriz.\n",
      "Infelizmente a mesa não chegará a tempo para o nosso jantar, então terei que desmarca-lo. Espero que entenda Heryson.\n",
      "Infelizmente a mesa não chegará a tempo para o nosso jantar, então terei que desmarca-lo. Espero que entenda Heryson.\n",
      "Você ainda está convidado para o meu jantar Pablo. Te espero dia 25/01.\n",
      "Você ainda está convidado para o meu jantar Murilo. Te espero dia 25/01.\n"
     ]
    }
   ],
   "source": [
    "#Exercicio 3-7 - Removendo convidados : Voc~e descobre que sua nova mesa de jantar não chegará a tempo do jantar\n",
    "# e agora só tem espaço para duas pessoas na mesa\n",
    "\n",
    "print(dinner_list)\n",
    "cd1 = dinner_list.pop(0)\n",
    "print(f'Infelizmente a mesa não chegará a tempo para o nosso jantar, então terei que desmarca-lo. Espero que entenda {cd1}.')\n",
    "cd2 = dinner_list.pop(0)\n",
    "print(f'Infelizmente a mesa não chegará a tempo para o nosso jantar, então terei que desmarca-lo. Espero que entenda {cd2}.')\n",
    "cd3 = dinner_list.pop(0)\n",
    "print(f'Infelizmente a mesa não chegará a tempo para o nosso jantar, então terei que desmarca-lo. Espero que entenda {cd3}.')\n",
    "cd4 = dinner_list.pop()\n",
    "print(f'Infelizmente a mesa não chegará a tempo para o nosso jantar, então terei que desmarca-lo. Espero que entenda {cd3}.')\n",
    "print(f'Você ainda está convidado para o meu jantar {dinner_list[0]}. Te espero dia 25/01.')\n",
    "print(f'Você ainda está convidado para o meu jantar {dinner_list[1]}. Te espero dia 25/01.')"
   ]
  },
  {
   "cell_type": "code",
   "execution_count": 45,
   "metadata": {},
   "outputs": [
    {
     "name": "stdout",
     "output_type": "stream",
     "text": [
      "['Pablo', 'Murilo']\n",
      "[]\n"
     ]
    }
   ],
   "source": [
    "print(dinner_list)\n",
    "dinner_list.remove('Pablo')\n",
    "dinner_list.remove('Murilo')\n",
    "print(dinner_list)"
   ]
  }
 ],
 "metadata": {
  "kernelspec": {
   "display_name": "base",
   "language": "python",
   "name": "python3"
  },
  "language_info": {
   "codemirror_mode": {
    "name": "ipython",
    "version": 3
   },
   "file_extension": ".py",
   "mimetype": "text/x-python",
   "name": "python",
   "nbconvert_exporter": "python",
   "pygments_lexer": "ipython3",
   "version": "3.12.7"
  }
 },
 "nbformat": 4,
 "nbformat_minor": 2
}
