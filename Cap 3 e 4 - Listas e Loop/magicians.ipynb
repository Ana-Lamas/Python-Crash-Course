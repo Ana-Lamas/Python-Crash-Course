{
 "cells": [
  {
   "cell_type": "code",
   "execution_count": 1,
   "metadata": {},
   "outputs": [
    {
     "name": "stdout",
     "output_type": "stream",
     "text": [
      "alice\n",
      "david\n",
      "carolina\n"
     ]
    }
   ],
   "source": [
    "magicians = ['alice', 'david', 'carolina']\n",
    "for magician in magicians:\n",
    "    print(magician)"
   ]
  },
  {
   "cell_type": "code",
   "execution_count": 2,
   "metadata": {},
   "outputs": [
    {
     "name": "stdout",
     "output_type": "stream",
     "text": [
      "Alice, esse foi um grande truque!\n",
      "David, esse foi um grande truque!\n",
      "Carolina, esse foi um grande truque!\n"
     ]
    }
   ],
   "source": [
    "magicians = ['alice', 'david', 'carolina']\n",
    "for magician in magicians:\n",
    "    print(f'{magician.title()}, esse foi um grande truque!')"
   ]
  },
  {
   "cell_type": "code",
   "execution_count": 4,
   "metadata": {},
   "outputs": [
    {
     "name": "stdout",
     "output_type": "stream",
     "text": [
      "Alice, esse foi um grande truque!\n",
      "Eu não posso esperar para ver seu próximo truque, Alice.\n",
      "\n",
      "David, esse foi um grande truque!\n",
      "Eu não posso esperar para ver seu próximo truque, David.\n",
      "\n",
      "Carolina, esse foi um grande truque!\n",
      "Eu não posso esperar para ver seu próximo truque, Carolina.\n",
      "\n",
      "Obrigado a todos. Esse foi um grande show de mágica!\n"
     ]
    }
   ],
   "source": [
    "magicians = ['alice', 'david', 'carolina']\n",
    "for magician in magicians:\n",
    "    print(f'{magician.title()}, esse foi um grande truque!')\n",
    "    print(f'Eu não posso esperar para ver seu próximo truque, {magician.title()}.\\n')\n",
    "print('Obrigado a todos. Esse foi um grande show de mágica!')"
   ]
  }
 ],
 "metadata": {
  "kernelspec": {
   "display_name": "base",
   "language": "python",
   "name": "python3"
  },
  "language_info": {
   "codemirror_mode": {
    "name": "ipython",
    "version": 3
   },
   "file_extension": ".py",
   "mimetype": "text/x-python",
   "name": "python",
   "nbconvert_exporter": "python",
   "pygments_lexer": "ipython3",
   "version": "3.12.7"
  }
 },
 "nbformat": 4,
 "nbformat_minor": 2
}
