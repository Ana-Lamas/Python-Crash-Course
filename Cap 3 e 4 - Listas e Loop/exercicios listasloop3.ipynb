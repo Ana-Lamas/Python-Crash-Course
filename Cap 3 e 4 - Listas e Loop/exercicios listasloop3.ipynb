{
 "cells": [
  {
   "cell_type": "code",
   "execution_count": 3,
   "metadata": {},
   "outputs": [
    {
     "name": "stdout",
     "output_type": "stream",
     "text": [
      "Os três primeiros itens da lista são:\n",
      "['pizza', 'falafel', 'carrot cake']\n",
      "Os três itens do meio da lista são:\n",
      "['ice cream', 'sandwich', 'hamburguers']\n",
      "Os meus três últimos itens são:\n",
      "['hamburguers', 'tomato salad', 'chicken pie']\n"
     ]
    }
   ],
   "source": [
    "#Exercicio 4-10 - Partições: Use um dos programas que você escreveu nesse capítulo, e adicione algumas linhas ao fim do programa e siga as orientações\n",
    "my_foods = ['pizza', 'falafel', 'carrot cake', 'ice cream', 'sandwich', 'hamburguers', 'tomato salad', 'chicken pie']\n",
    "# print os primeiros tres itens da lista\n",
    "print('Os três primeiros itens da lista são:')\n",
    "print(my_foods[:3])\n",
    "# print os 3 itens do meio da lista\n",
    "print('Os três itens do meio da lista são:')\n",
    "print(my_foods[3:6])\n",
    "#print os 3 últimos itens da lista\n",
    "print('Os meus três últimos itens são:')\n",
    "print(my_foods[-3:])\n"
   ]
  },
  {
   "cell_type": "code",
   "execution_count": 4,
   "metadata": {},
   "outputs": [
    {
     "name": "stdout",
     "output_type": "stream",
     "text": [
      "Minhas pizzas favoritas são:\n",
      "['calabresa', 'portuguesa', 'bauru', 'baiana']\n",
      "As pizzas favoritas do meu amigo são:\n",
      "['calabresa', 'portuguesa', 'bauru', 'frango com catupiry']\n"
     ]
    }
   ],
   "source": [
    "#Exercicio 4-11 - Minhas pizzas, suas pizzas: Inicie o seu programa do exercicio 4-1. Faça uma cópia da lista de pizzas, e chame por friend_pizzas. Então, faça o seguinte:\n",
    "favorite_pizza = ['calabresa', 'portuguesa', 'bauru']\n",
    "friend_pizzas = favorite_pizza[:]\n",
    "# Adicionar um novo sabor de pizza a lista original\n",
    "favorite_pizza.append('baiana')\n",
    "# Adicionar um novo sabor de pizza para a lista friend_pizzas\n",
    "friend_pizzas.append('frango com catupiry')\n",
    "# Prove que as listas estão separadas\n",
    "print('Minhas pizzas favoritas são:')\n",
    "print(favorite_pizza)\n",
    "print('As pizzas favoritas do meu amigo são:')\n",
    "print(friend_pizzas)"
   ]
  },
  {
   "cell_type": "code",
   "execution_count": 11,
   "metadata": {},
   "outputs": [
    {
     "name": "stdout",
     "output_type": "stream",
     "text": [
      "pizza\n",
      "falafel\n",
      "carrot cake\n",
      "cannoli\n",
      "\n",
      "Essa foi a minha lista de comidas favoritas!\n",
      "pizza\n",
      "falafel\n",
      "carrot cake\n",
      "ice cream\n",
      "\n",
      "Essa foi a lista de comidas favoritas do meu amigo!\n"
     ]
    }
   ],
   "source": [
    "#Exercicio 4-12 - Mais loops: Todas as versões de foods.py nessa sessão não usaram for loops para printar para salvar espaço.\n",
    "# Escolha uma versão de foods.py, e escreve dois for loops para printar cada lista de comidas\n",
    "my_foods = ['pizza', 'falafel', 'carrot cake']\n",
    "friend_foods = my_foods[:]\n",
    "my_foods.append('cannoli')\n",
    "friend_foods.append('ice cream')\n",
    "for food in my_foods:\n",
    "    print(food)\n",
    "print('\\nEssa foi a minha lista de comidas favoritas!')\n",
    "for food in friend_foods:\n",
    "    print(food)\n",
    "print('\\nEssa foi a lista de comidas favoritas do meu amigo!')"
   ]
  }
 ],
 "metadata": {
  "kernelspec": {
   "display_name": "Python 3",
   "language": "python",
   "name": "python3"
  },
  "language_info": {
   "codemirror_mode": {
    "name": "ipython",
    "version": 3
   },
   "file_extension": ".py",
   "mimetype": "text/x-python",
   "name": "python",
   "nbconvert_exporter": "python",
   "pygments_lexer": "ipython3",
   "version": "3.13.1"
  }
 },
 "nbformat": 4,
 "nbformat_minor": 2
}
