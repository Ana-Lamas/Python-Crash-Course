{
 "cells": [
  {
   "cell_type": "code",
   "execution_count": 7,
   "metadata": {},
   "outputs": [
    {
     "name": "stdout",
     "output_type": "stream",
     "text": [
      "As opções de comida do buffet são:\n",
      "- macarrão a alho e oleo\n",
      "- parmeggiana\n",
      "- bife e fritas\n",
      "- PF\n",
      "- macarrão ao molho sugo\n",
      "O menu original do buffet é:\n",
      "-macarrão a alho e oleo\n",
      "-parmeggiana\n",
      "-bife e fritas\n",
      "-PF\n",
      "-macarrão ao molho sugo\n",
      "\n",
      "O menu do buffet alterado passa a ser:\n",
      "- bauru\n",
      "- parmeggiana\n",
      "- bife e fritas\n",
      "- PF\n",
      "- tapioca\n"
     ]
    }
   ],
   "source": [
    "'''Exercício 4-13 - Buffet: Um restaurantes no estilo buffet oderece apenas cinco opções simples de comidas. Pense em cinco comidas simples, e aloque em uma tupla'''\n",
    "buffet_options = (\n",
    "    'macarrão a alho e oleo', 'parmeggiana', \n",
    "    'bife e fritas', 'PF', 'macarrão ao molho sugo')\n",
    "\n",
    "\"\"\"Use for loop para printar as opções de comidas que o restaurante oferece\"\"\"\n",
    "print('As opções de comida do buffet são:')\n",
    "for food in buffet_options:\n",
    "    print(f'- {food}')\n",
    "\n",
    "'''Tente alterar um dos itens, para provar que o python não permite mudança em tuplas'''\n",
    "#buffet_options[0] = 'bauru'\n",
    "\n",
    "'''O menu do restaurante mudou, mude dois itens com diferentes comidas. Adicione uma linha para reescrever a tuplas e use um for loop para printar cada um dos itens do menu'''\n",
    "print('O menu original do buffet é:')\n",
    "for food in buffet_options:\n",
    "    print(f'-{food}')\n",
    "\n",
    "buffet_options = ('bauru', 'parmeggiana', 'bife e fritas', 'PF', 'tapioca')\n",
    "print('\\nO menu do buffet alterado passa a ser:')\n",
    "for food in buffet_options:\n",
    "    print(f'- {food}')"
   ]
  }
 ],
 "metadata": {
  "kernelspec": {
   "display_name": "Python 3",
   "language": "python",
   "name": "python3"
  },
  "language_info": {
   "codemirror_mode": {
    "name": "ipython",
    "version": 3
   },
   "file_extension": ".py",
   "mimetype": "text/x-python",
   "name": "python",
   "nbconvert_exporter": "python",
   "pygments_lexer": "ipython3",
   "version": "3.13.1"
  }
 },
 "nbformat": 4,
 "nbformat_minor": 2
}
