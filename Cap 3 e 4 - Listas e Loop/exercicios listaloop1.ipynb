{
 "cells": [
  {
   "cell_type": "code",
   "execution_count": 4,
   "metadata": {},
   "outputs": [
    {
     "name": "stdout",
     "output_type": "stream",
     "text": [
      "Eu gosto de pizza de calabresa.\n",
      "\n",
      "Eu gosto de pizza de portuguesa.\n",
      "\n",
      "Eu gosto de pizza de bauru.\n",
      "\n",
      "Eu realmente gosto de pizza!\n"
     ]
    }
   ],
   "source": [
    "# Exercício 4-1 : Pense em ao menos 3 tipos de pizza favoritos. Coloque o nome dessas pizzas em uma lista,\n",
    "# e use o for loop para printar o nome de cada sabor\n",
    "favorite_pizza = ['calabresa', 'portuguesa', 'bauru']\n",
    "for sabor in favorite_pizza:\n",
    "    print(f'Eu gosto de pizza de {sabor}.\\n')\n",
    "print('Eu realmente gosto de pizza!')"
   ]
  },
  {
   "cell_type": "code",
   "execution_count": 8,
   "metadata": {},
   "outputs": [
    {
     "name": "stdout",
     "output_type": "stream",
     "text": [
      "O cavalo é um excelente animal para locomoção.\n",
      "\n",
      "O camelo é um excelente animal para locomoção.\n",
      "\n",
      "O dromedário é um excelente animal para locomoção.\n",
      "\n",
      "Todos esses animais são excelentes montarias!\n"
     ]
    }
   ],
   "source": [
    "# Exercício 4-2 - Animais: pense em pelo menos três diferentes animais que tenham característics em comum.\n",
    "# Guarde o nome desses animais em uma lista, e então use o for loop para printar o nome de cada animal\n",
    "common_animal = ['cavalo', 'camelo', 'dromedário']\n",
    "for montaria in common_animal:\n",
    "    print(f'O {montaria} é um excelente animal para locomoção.\\n')\n",
    "print('Todos esses animais são excelentes montarias!')"
   ]
  }
 ],
 "metadata": {
  "kernelspec": {
   "display_name": "base",
   "language": "python",
   "name": "python3"
  },
  "language_info": {
   "codemirror_mode": {
    "name": "ipython",
    "version": 3
   },
   "file_extension": ".py",
   "mimetype": "text/x-python",
   "name": "python",
   "nbconvert_exporter": "python",
   "pygments_lexer": "ipython3",
   "version": "3.12.7"
  }
 },
 "nbformat": 4,
 "nbformat_minor": 2
}
