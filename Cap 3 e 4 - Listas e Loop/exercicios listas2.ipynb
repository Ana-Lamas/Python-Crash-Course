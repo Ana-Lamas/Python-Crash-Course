{
 "cells": [
  {
   "cell_type": "code",
   "execution_count": 15,
   "metadata": {},
   "outputs": [
    {
     "name": "stdout",
     "output_type": "stream",
     "text": [
      "['Londres', 'Tokio', 'Madrid', 'Varsovia', 'Vancouver']\n"
     ]
    }
   ],
   "source": [
    "# Exericios 3-8 : Pense em 5 lugares do mundo que queira visitar\n",
    "places_to_go = ['Londres', 'Tokio', 'Madrid', 'Varsovia', 'Vancouver']\n",
    "print(places_to_go)"
   ]
  },
  {
   "cell_type": "code",
   "execution_count": 16,
   "metadata": {},
   "outputs": [
    {
     "name": "stdout",
     "output_type": "stream",
     "text": [
      "['Londres', 'Madrid', 'Tokio', 'Vancouver', 'Varsovia']\n",
      "A lista original se mantém inalterada: \n",
      "['Londres', 'Tokio', 'Madrid', 'Varsovia', 'Vancouver']\n"
     ]
    }
   ],
   "source": [
    "print(sorted(places_to_go))\n",
    "print(f'A lista original se mantém inalterada: ')\n",
    "print(places_to_go)"
   ]
  },
  {
   "cell_type": "code",
   "execution_count": 17,
   "metadata": {},
   "outputs": [
    {
     "name": "stdout",
     "output_type": "stream",
     "text": [
      "['Varsovia', 'Vancouver', 'Tokio', 'Madrid', 'Londres']\n",
      "A lista original permanece inalterada: \n",
      "['Londres', 'Tokio', 'Madrid', 'Varsovia', 'Vancouver']\n"
     ]
    }
   ],
   "source": [
    "print(sorted(places_to_go, reverse=True))\n",
    "print('A lista original permanece inalterada: ')\n",
    "print(places_to_go)"
   ]
  },
  {
   "cell_type": "code",
   "execution_count": 18,
   "metadata": {},
   "outputs": [
    {
     "name": "stdout",
     "output_type": "stream",
     "text": [
      "A lista original era: ['Londres', 'Tokio', 'Madrid', 'Varsovia', 'Vancouver']\n",
      "Agora a lista é: ['Vancouver', 'Varsovia', 'Madrid', 'Tokio', 'Londres']\n"
     ]
    }
   ],
   "source": [
    "print(f'A lista original era: {places_to_go}')\n",
    "places_to_go.reverse()\n",
    "print(f'Agora a lista é: {places_to_go}')"
   ]
  },
  {
   "cell_type": "code",
   "execution_count": 19,
   "metadata": {},
   "outputs": [
    {
     "name": "stdout",
     "output_type": "stream",
     "text": [
      "['Vancouver', 'Varsovia', 'Madrid', 'Tokio', 'Londres']\n",
      "['Londres', 'Tokio', 'Madrid', 'Varsovia', 'Vancouver']\n"
     ]
    }
   ],
   "source": [
    "print(places_to_go)\n",
    "places_to_go.reverse()\n",
    "print(places_to_go)"
   ]
  },
  {
   "cell_type": "code",
   "execution_count": 20,
   "metadata": {},
   "outputs": [
    {
     "name": "stdout",
     "output_type": "stream",
     "text": [
      "['Londres', 'Tokio', 'Madrid', 'Varsovia', 'Vancouver']\n",
      "['Londres', 'Madrid', 'Tokio', 'Vancouver', 'Varsovia']\n"
     ]
    }
   ],
   "source": [
    "print(places_to_go)\n",
    "places_to_go.sort()\n",
    "print(places_to_go)"
   ]
  },
  {
   "cell_type": "code",
   "execution_count": 22,
   "metadata": {},
   "outputs": [
    {
     "name": "stdout",
     "output_type": "stream",
     "text": [
      "['Londres', 'Madrid', 'Tokio', 'Vancouver', 'Varsovia']\n",
      "['Varsovia', 'Vancouver', 'Tokio', 'Madrid', 'Londres']\n"
     ]
    }
   ],
   "source": [
    "print(places_to_go)\n",
    "places_to_go.sort(reverse=True)\n",
    "print(places_to_go)"
   ]
  },
  {
   "cell_type": "code",
   "execution_count": 29,
   "metadata": {},
   "outputs": [
    {
     "name": "stdout",
     "output_type": "stream",
     "text": [
      "3\n",
      "3\n",
      "6\n",
      "2\n",
      "0\n"
     ]
    }
   ],
   "source": [
    "# Exercicio 3-9 - Convidados do jantar: Trabalhando com a lista do exercicio 3-4 ate o 3-7, use len() para indicar a quantidade de pessoas convidadas ao jantar\n",
    "dinner_list = ['Beatriz', 'Rúbia', 'Jacilda']\n",
    "print(len(dinner_list))\n",
    "dinner_list[1] = 'Pablo'\n",
    "dinner_list[2] = 'Murilo'\n",
    "print(len(dinner_list))\n",
    "dinner_list.insert(0, 'Ramon')\n",
    "dinner_list.insert(2, 'Heryson')\n",
    "dinner_list.append('Hendny')\n",
    "print(len(dinner_list))\n",
    "cd1 = dinner_list.pop(0)\n",
    "cd2 = dinner_list.pop(0)\n",
    "cd3 = dinner_list.pop(0)\n",
    "cd4 = dinner_list.pop()\n",
    "print(len(dinner_list))\n",
    "dinner_list.remove('Pablo')\n",
    "dinner_list.remove('Murilo')\n",
    "print(len(dinner_list))"
   ]
  }
 ],
 "metadata": {
  "kernelspec": {
   "display_name": "base",
   "language": "python",
   "name": "python3"
  },
  "language_info": {
   "codemirror_mode": {
    "name": "ipython",
    "version": 3
   },
   "file_extension": ".py",
   "mimetype": "text/x-python",
   "name": "python",
   "nbconvert_exporter": "python",
   "pygments_lexer": "ipython3",
   "version": "3.12.7"
  }
 },
 "nbformat": 4,
 "nbformat_minor": 2
}
