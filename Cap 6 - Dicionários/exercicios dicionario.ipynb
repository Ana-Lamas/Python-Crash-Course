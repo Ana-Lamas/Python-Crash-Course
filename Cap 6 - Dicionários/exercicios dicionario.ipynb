{
 "cells": [
  {
   "cell_type": "code",
   "execution_count": 2,
   "metadata": {},
   "outputs": [
    {
     "data": {
      "text/plain": [
       "'Exercício 6-1 - Pessoa: Use um dicionário para guardar a informação\\nsobre uma pessoa que você conheça. Guarde o seu primeiro nome, sobrenome\\nidade, e a cidade em que ela vive. Você deve ter as chaves como\\nfirst_name, last_name, age, e city. Print cada pedaço de informação\\nguardado no seu dicionário.'"
      ]
     },
     "execution_count": 2,
     "metadata": {},
     "output_type": "execute_result"
    }
   ],
   "source": [
    "\"\"\"Exercício 6-1 - Pessoa: Use um dicionário para guardar a informação\n",
    "sobre uma pessoa que você conheça. Guarde o seu primeiro nome, sobrenome\n",
    "idade, e a cidade em que ela vive. Você deve ter as chaves como\n",
    "first_name, last_name, age, e city. Print cada pedaço de informação\n",
    "guardado no seu dicionário.\"\"\""
   ]
  },
  {
   "cell_type": "code",
   "execution_count": 1,
   "metadata": {},
   "outputs": [
    {
     "name": "stdout",
     "output_type": "stream",
     "text": [
      "Rúbia\n",
      "Lamas\n",
      "44\n",
      "Vila Velha\n"
     ]
    }
   ],
   "source": [
    "person = {'first_name': 'Rúbia',\n",
    "          'last_name': 'Lamas',\n",
    "          'age': 44,\n",
    "          'city': 'Vila Velha',\n",
    "}\n",
    "print(person['first_name'])\n",
    "print(person['last_name'])\n",
    "print(person['age'])\n",
    "print(person['city'])"
   ]
  },
  {
   "cell_type": "code",
   "execution_count": 2,
   "metadata": {},
   "outputs": [
    {
     "data": {
      "text/plain": [
       "'Exercício 6-2 - Números Favoritos: Use um dicionário para guardar\\nnúmeros favoritos das pessoas. Pense em cinco nomes, e use eles como\\nchaves em seu dicionário. Pense no número favorito de cada pessoa, e\\nguarde o valor no dicionário. Print o nome de cada pessoa e de seu \\nnúmero favorito.'"
      ]
     },
     "execution_count": 2,
     "metadata": {},
     "output_type": "execute_result"
    }
   ],
   "source": [
    "\"\"\"Exercício 6-2 - Números Favoritos: Use um dicionário para guardar\n",
    "números favoritos das pessoas. Pense em cinco nomes, e use eles como\n",
    "chaves em seu dicionário. Pense no número favorito de cada pessoa, e\n",
    "guarde o valor no dicionário. Print o nome de cada pessoa e de seu \n",
    "número favorito.\"\"\""
   ]
  },
  {
   "cell_type": "code",
   "execution_count": 6,
   "metadata": {},
   "outputs": [
    {
     "name": "stdout",
     "output_type": "stream",
     "text": [
      "O número favorito de Ana é 29.\n",
      "O número favorito de Beatriz é 9.\n",
      "O número favorito de Rúbia é 21.\n",
      "O número favorito de Jacilda é 1.\n",
      "O número favorito de Artemis é 3.\n"
     ]
    }
   ],
   "source": [
    "favorite_number = {\n",
    "    'Ana': 29,\n",
    "    'Beatriz': 9,\n",
    "    'Rúbia': 21,\n",
    "    'Jacilda': 1,\n",
    "    'Artemis': 3,\n",
    "}\n",
    "num = favorite_number['Ana']\n",
    "print(f'O número favorito de Ana é {num}.')\n",
    "num = favorite_number['Beatriz']\n",
    "print(f'O número favorito de Beatriz é {num}.')\n",
    "num = favorite_number['Rúbia']\n",
    "print(f'O número favorito de Rúbia é {num}.')\n",
    "num = favorite_number['Jacilda']\n",
    "print(f'O número favorito de Jacilda é {num}.')\n",
    "num = favorite_number['Artemis']\n",
    "print(f'O número favorito de Artemis é {num}.')"
   ]
  },
  {
   "cell_type": "code",
   "execution_count": 7,
   "metadata": {},
   "outputs": [
    {
     "data": {
      "text/plain": [
       "' - Print cada palavra é seu significado como saída formatada.\\nVocê deve printar a palavra seguida por dois pontos e seu significado,\\nou printar a palavra em uma linha e o significado identado na segunda\\nlinha. Use (\\n) para inserir uma linha em branco entra o par palavra-\\nsignificado no seu output.'"
      ]
     },
     "execution_count": 7,
     "metadata": {},
     "output_type": "execute_result"
    }
   ],
   "source": [
    "\"\"\"Exercício 6-3 - Glossario: Um dicionário Python pode ser usado \n",
    "para modelar um dicionário padrão. Entretanto, para evitar confusão,\n",
    "vamos chama-lo de glossário.\"\"\"\n",
    "''' - Pense em cinco palavras de programação que aprendeu nos últimos\n",
    "capítulos. Use essas palavras em seu glossário, é guarde seus \n",
    "significados como valores'''\n",
    "''' - Print cada palavra é seu significado como saída formatada.\n",
    "Você deve printar a palavra seguida por dois pontos e seu significado,\n",
    "ou printar a palavra em uma linha e o significado identado na segunda\n",
    "linha. Use (\\n) para inserir uma linha em branco entra o par palavra-\n",
    "significado no seu output.'''\n"
   ]
  },
  {
   "cell_type": "code",
   "execution_count": 9,
   "metadata": {},
   "outputs": [
    {
     "name": "stdout",
     "output_type": "stream",
     "text": [
      "if: adiciona uma condição ao programa\n",
      "lista: coleção de itens em uma ordem particular\n",
      "tupla: sequência ordenada, semelhante as listas, mas imutáveis\n",
      "dicionário: coleção de pares chave-valor\n",
      "loops: permite que uma tarefa seja repetida, conforme o programado\n"
     ]
    }
   ],
   "source": [
    "glossary = {\n",
    "    'if': 'adiciona uma condição ao programa',\n",
    "    'lista': 'coleção de itens em uma ordem particular',\n",
    "    'tupla': 'sequência ordenada, semelhante as listas, mas imutáveis',\n",
    "    'dicionário': 'coleção de pares chave-valor',\n",
    "    'loops': 'permite que uma tarefa seja repetida, conforme o programado',\n",
    "}\n",
    "se = glossary['if']\n",
    "print(f'if: {se}')\n",
    "lista = glossary['lista']\n",
    "print(f'lista: {lista}')\n",
    "tupla = glossary['tupla']\n",
    "print(f'tupla: {tupla}')\n",
    "dicionario = glossary['dicionário']\n",
    "print(f'dicionário: {dicionario}')\n",
    "loops = glossary['loops']\n",
    "print(f'loops: {loops}')"
   ]
  }
 ],
 "metadata": {
  "kernelspec": {
   "display_name": "base",
   "language": "python",
   "name": "python3"
  },
  "language_info": {
   "codemirror_mode": {
    "name": "ipython",
    "version": 3
   },
   "file_extension": ".py",
   "mimetype": "text/x-python",
   "name": "python",
   "nbconvert_exporter": "python",
   "pygments_lexer": "ipython3",
   "version": "3.12.7"
  }
 },
 "nbformat": 4,
 "nbformat_minor": 2
}
