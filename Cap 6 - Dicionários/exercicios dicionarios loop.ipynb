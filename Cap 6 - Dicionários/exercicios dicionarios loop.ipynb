{
 "cells": [
  {
   "cell_type": "code",
   "execution_count": null,
   "id": "56c77768",
   "metadata": {},
   "outputs": [],
   "source": [
    "\"\"\"Exercício 6-4 - Glossário 2: Agora que você sabe como fazer um loop atráves de um dicionário,\n",
    "pegue o código do exercício 6-3 e troque a série de prints por um loop que execute atráves das chaves e valores \n",
    "do dicionário. Quando tiver ceteza que o loop funciona, adicione mais cinco termos de Python ao seu glossário.\n",
    "Quando seu programa executar novamente, as palavras e significados devem ser automáticamente incluidas no output\"\"\""
   ]
  },
  {
   "cell_type": "code",
   "execution_count": 2,
   "id": "93bc4b04",
   "metadata": {},
   "outputs": [
    {
     "name": "stdout",
     "output_type": "stream",
     "text": [
      "\n",
      "if: adiciona uma condição ao programa\n",
      "\n",
      "lista: coleção de itens em uma ordem particular\n",
      "\n",
      "tupla: sequência ordenada, semelhante as listas, mas imutáveis\n",
      "\n",
      "dicionário: coleção de pares chave-valor\n",
      "\n",
      "loops: permite que uma tarefa seja repetida, conforme o programado\n",
      "\n",
      "string: qualquer sequência de caracteres\n",
      "\n",
      "float: números flutuantes ou conjunto dos números reais\n",
      "\n",
      "print: imprime uma frase ou resultado conforme o programado\n",
      "\n",
      "import: importa as funcionalidades da biblioteca desejada\n",
      "\n",
      "//: função aritméticos que dá como resultado a divisão inteira do número\n"
     ]
    }
   ],
   "source": [
    "glossary = {\n",
    "    'if': 'adiciona uma condição ao programa',\n",
    "    'lista': 'coleção de itens em uma ordem particular',\n",
    "    'tupla': 'sequência ordenada, semelhante as listas, mas imutáveis',\n",
    "    'dicionário': 'coleção de pares chave-valor',\n",
    "    'loops': 'permite que uma tarefa seja repetida, conforme o programado',\n",
    "    'string': 'qualquer sequência de caracteres',\n",
    "    'float': 'números flutuantes ou conjunto dos números reais',\n",
    "    'print': 'imprime uma frase ou resultado conforme o programado',\n",
    "    'import': 'importa as funcionalidades da biblioteca desejada',\n",
    "    '//': 'função aritméticos que dá como resultado a divisão inteira do número'\n",
    "}\n",
    "for key, value in glossary.items():\n",
    "    print(f'\\n{key}: {value}')"
   ]
  },
  {
   "cell_type": "code",
   "execution_count": null,
   "id": "657e7e63",
   "metadata": {},
   "outputs": [],
   "source": [
    "\"\"\"Exercício 6-5 - Rio: Fazer um dicionário contendo os três maiores rios e os países onde cada um desses rios corre.\n",
    "Um par chave-valor pode ser 'nilo': 'egypt'.\n",
    "- Use o loop para imprimir uma sentença sobre cada rio, como O Nilo corre atráves do Egito\n",
    "- Use o loop para printar o nome de cada rio incluído no dicionário\n",
    "- Use o loop para imprimir o nome de cada país incluido no dicionário\"\"\""
   ]
  },
  {
   "cell_type": "code",
   "execution_count": null,
   "id": "e4f06bc7",
   "metadata": {},
   "outputs": [],
   "source": [
    "rivers = {\n",
    "    'Nilo': 'Egito',\n",
    "    'Amazonas': 'Brasil',\n",
    "    'Yangtze': 'China'\n",
    "}\n"
   ]
  }
 ],
 "metadata": {
  "kernelspec": {
   "display_name": "base",
   "language": "python",
   "name": "python3"
  },
  "language_info": {
   "codemirror_mode": {
    "name": "ipython",
    "version": 3
   },
   "file_extension": ".py",
   "mimetype": "text/x-python",
   "name": "python",
   "nbconvert_exporter": "python",
   "pygments_lexer": "ipython3",
   "version": "3.12.7"
  }
 },
 "nbformat": 4,
 "nbformat_minor": 5
}
